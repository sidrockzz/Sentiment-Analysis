{
 "cells": [
  {
   "cell_type": "code",
   "execution_count": 1,
   "metadata": {},
   "outputs": [
    {
     "name": "stdout",
     "output_type": "stream",
     "text": [
      "Collecting newspaper3k\n",
      "  Downloading newspaper3k-0.2.8-py3-none-any.whl (211 kB)\n",
      "\u001b[K     |████████████████████████████████| 211 kB 523 kB/s eta 0:00:01\n",
      "\u001b[?25hRequirement already satisfied: beautifulsoup4>=4.4.1 in ./anaconda3/lib/python3.7/site-packages (from newspaper3k) (4.8.2)\n",
      "Requirement already satisfied: lxml>=3.6.0 in ./anaconda3/lib/python3.7/site-packages (from newspaper3k) (4.5.0)\n",
      "Collecting tldextract>=2.0.1\n",
      "  Downloading tldextract-2.2.2-py2.py3-none-any.whl (48 kB)\n",
      "\u001b[K     |████████████████████████████████| 48 kB 810 kB/s eta 0:00:011\n",
      "\u001b[?25hRequirement already satisfied: Pillow>=3.3.0 in ./anaconda3/lib/python3.7/site-packages (from newspaper3k) (7.0.0)\n",
      "Requirement already satisfied: PyYAML>=3.11 in ./anaconda3/lib/python3.7/site-packages (from newspaper3k) (5.3)\n",
      "Collecting feedfinder2>=0.0.4\n",
      "  Downloading feedfinder2-0.0.4.tar.gz (3.3 kB)\n",
      "Collecting jieba3k>=0.35.1\n",
      "  Downloading jieba3k-0.35.1.zip (7.4 MB)\n",
      "\u001b[K     |████████████████████████████████| 7.4 MB 233 kB/s eta 0:00:01\n",
      "\u001b[?25hRequirement already satisfied: requests>=2.10.0 in ./anaconda3/lib/python3.7/site-packages (from newspaper3k) (2.23.0)\n",
      "Requirement already satisfied: nltk>=3.2.1 in ./anaconda3/lib/python3.7/site-packages (from newspaper3k) (3.4.5)\n",
      "Requirement already satisfied: python-dateutil>=2.5.3 in ./anaconda3/lib/python3.7/site-packages (from newspaper3k) (2.8.1)\n",
      "Collecting cssselect>=0.9.2\n",
      "  Downloading cssselect-1.1.0-py2.py3-none-any.whl (16 kB)\n",
      "Collecting feedparser>=5.2.1\n",
      "  Downloading feedparser-5.2.1.tar.bz2 (192 kB)\n",
      "\u001b[K     |████████████████████████████████| 192 kB 358 kB/s eta 0:00:01\n",
      "\u001b[?25hCollecting tinysegmenter==0.3\n",
      "  Downloading tinysegmenter-0.3.tar.gz (16 kB)\n",
      "Requirement already satisfied: soupsieve>=1.2 in ./anaconda3/lib/python3.7/site-packages (from beautifulsoup4>=4.4.1->newspaper3k) (2.0)\n",
      "Requirement already satisfied: idna in ./anaconda3/lib/python3.7/site-packages (from tldextract>=2.0.1->newspaper3k) (2.9)\n",
      "Collecting requests-file>=1.4\n",
      "  Downloading requests_file-1.4.3-py2.py3-none-any.whl (4.0 kB)\n",
      "Requirement already satisfied: setuptools in ./anaconda3/lib/python3.7/site-packages (from tldextract>=2.0.1->newspaper3k) (46.0.0.post20200309)\n",
      "Requirement already satisfied: six in ./anaconda3/lib/python3.7/site-packages (from feedfinder2>=0.0.4->newspaper3k) (1.14.0)\n",
      "Requirement already satisfied: certifi>=2017.4.17 in ./anaconda3/lib/python3.7/site-packages (from requests>=2.10.0->newspaper3k) (2019.11.28)\n",
      "Requirement already satisfied: chardet<4,>=3.0.2 in ./anaconda3/lib/python3.7/site-packages (from requests>=2.10.0->newspaper3k) (3.0.4)\n",
      "Requirement already satisfied: urllib3!=1.25.0,!=1.25.1,<1.26,>=1.21.1 in ./anaconda3/lib/python3.7/site-packages (from requests>=2.10.0->newspaper3k) (1.25.8)\n",
      "Building wheels for collected packages: feedfinder2, jieba3k, feedparser, tinysegmenter\n",
      "  Building wheel for feedfinder2 (setup.py) ... \u001b[?25ldone\n",
      "\u001b[?25h  Created wheel for feedfinder2: filename=feedfinder2-0.0.4-py3-none-any.whl size=3355 sha256=338eccb7f3d19465511533c2e790d0fa4dcbd560cf42cc82f8f5989cb5c3e85b\n",
      "  Stored in directory: /home/siddharth/.cache/pip/wheels/7f/d4/8f/6e2ca54744c9d7292d88ddb8d42876bcdab5e6d84a21c10346\n",
      "  Building wheel for jieba3k (setup.py) ... \u001b[?25ldone\n",
      "\u001b[?25h  Created wheel for jieba3k: filename=jieba3k-0.35.1-py3-none-any.whl size=7398406 sha256=804f13cb7b90eeb90dddd73fca42a653eed019c6a26841f234850a2713a4bd66\n",
      "  Stored in directory: /home/siddharth/.cache/pip/wheels/4c/91/46/3c208287b726df325a5979574324878b679116e4baae1af3c3\n",
      "  Building wheel for feedparser (setup.py) ... \u001b[?25ldone\n",
      "\u001b[?25h  Created wheel for feedparser: filename=feedparser-5.2.1-py3-none-any.whl size=44939 sha256=39ed4b91a5ca8b63138a5d234498e7f993140f788f63a11a6dc4a2f2a472b873\n",
      "  Stored in directory: /home/siddharth/.cache/pip/wheels/4a/87/a9/ef99b7b68f9816d5ef1262dc11ce31a93a844eb69e68c1a031\n",
      "  Building wheel for tinysegmenter (setup.py) ... \u001b[?25ldone\n",
      "\u001b[?25h  Created wheel for tinysegmenter: filename=tinysegmenter-0.3-py3-none-any.whl size=13538 sha256=04e6100bb2afbb8c907b97c11be2a0b027060829aee9548b5b9b1baf0c2bfa56\n",
      "  Stored in directory: /home/siddharth/.cache/pip/wheels/df/67/41/faca10fa501ca010be41b49d40360c2959e1c4f09bcbfa37fa\n",
      "Successfully built feedfinder2 jieba3k feedparser tinysegmenter\n",
      "Installing collected packages: requests-file, tldextract, feedfinder2, jieba3k, cssselect, feedparser, tinysegmenter, newspaper3k\n",
      "Successfully installed cssselect-1.1.0 feedfinder2-0.0.4 feedparser-5.2.1 jieba3k-0.35.1 newspaper3k-0.2.8 requests-file-1.4.3 tinysegmenter-0.3 tldextract-2.2.2\n",
      "Note: you may need to restart the kernel to use updated packages.\n"
     ]
    }
   ],
   "source": [
    "pip install newspaper3k"
   ]
  },
  {
   "cell_type": "code",
   "execution_count": 2,
   "metadata": {},
   "outputs": [
    {
     "name": "stdout",
     "output_type": "stream",
     "text": [
      "Requirement already satisfied: nltk in ./anaconda3/lib/python3.7/site-packages (3.4.5)\n",
      "Requirement already satisfied: six in ./anaconda3/lib/python3.7/site-packages (from nltk) (1.14.0)\n",
      "Note: you may need to restart the kernel to use updated packages.\n"
     ]
    }
   ],
   "source": [
    "pip install nltk"
   ]
  },
  {
   "cell_type": "code",
   "execution_count": 3,
   "metadata": {},
   "outputs": [
    {
     "name": "stdout",
     "output_type": "stream",
     "text": [
      "Collecting textblob\n",
      "  Downloading textblob-0.15.3-py2.py3-none-any.whl (636 kB)\n",
      "\u001b[K     |████████████████████████████████| 636 kB 508 kB/s eta 0:00:01\n",
      "\u001b[?25hRequirement already satisfied: nltk>=3.1 in ./anaconda3/lib/python3.7/site-packages (from textblob) (3.4.5)\n",
      "Requirement already satisfied: six in ./anaconda3/lib/python3.7/site-packages (from nltk>=3.1->textblob) (1.14.0)\n",
      "Installing collected packages: textblob\n",
      "Successfully installed textblob-0.15.3\n",
      "Note: you may need to restart the kernel to use updated packages.\n"
     ]
    }
   ],
   "source": [
    "pip install textblob"
   ]
  },
  {
   "cell_type": "code",
   "execution_count": 1,
   "metadata": {},
   "outputs": [],
   "source": [
    "from textblob import TextBlob\n",
    "import nltk\n",
    "from newspaper import Article"
   ]
  },
  {
   "cell_type": "code",
   "execution_count": 2,
   "metadata": {},
   "outputs": [],
   "source": [
    "url = 'https://everythingcomputerscience.com/'\n",
    "article = Article(url)"
   ]
  },
  {
   "cell_type": "code",
   "execution_count": 3,
   "metadata": {},
   "outputs": [
    {
     "name": "stderr",
     "output_type": "stream",
     "text": [
      "[nltk_data] Downloading package punkt to /home/siddharth/nltk_data...\n",
      "[nltk_data]   Unzipping tokenizers/punkt.zip.\n"
     ]
    }
   ],
   "source": [
    "article.download() #Downloads the link’s HTML content\n",
    "article.parse() #Parse the article\n",
    "nltk.download('punkt')#1 time download of the sentence tokenizer\n",
    "article.nlp()#  Keyword extraction wrapper"
   ]
  },
  {
   "cell_type": "code",
   "execution_count": 4,
   "metadata": {},
   "outputs": [
    {
     "name": "stdout",
     "output_type": "stream",
     "text": [
      "Computer Science (CS)Computer Science (CS) is the study of the principles and use of computers.\n",
      "Simply put it's the science that deals with the theory and methods of processing information in digital computers, the design of computer hardware and software, and the applications of computers.\n",
      "A computer is simply a tool for a computer scientist, like a telescope for an astronomer.\n",
      "Teach yourself !\n"
     ]
    }
   ],
   "source": [
    "text = article.summary#print text\n",
    "print(text)"
   ]
  },
  {
   "cell_type": "code",
   "execution_count": 5,
   "metadata": {},
   "outputs": [
    {
     "name": "stdout",
     "output_type": "stream",
     "text": [
      "0.0\n"
     ]
    }
   ],
   "source": [
    "obj = TextBlob(text)#returns the sentiment of text\n",
    "#by returning a value between -1.0 and 1.0\n",
    "sentiment = obj.sentiment.polarity\n",
    "print(sentiment)"
   ]
  },
  {
   "cell_type": "code",
   "execution_count": 6,
   "metadata": {},
   "outputs": [
    {
     "name": "stdout",
     "output_type": "stream",
     "text": [
      "The text is neutral\n"
     ]
    }
   ],
   "source": [
    "if sentiment == 0:\n",
    "  print('The text is neutral')\n",
    "elif sentiment > 0:\n",
    "  print('The text is positive')\n",
    "else:\n",
    "  print('The text is negative')"
   ]
  },
  {
   "cell_type": "code",
   "execution_count": null,
   "metadata": {},
   "outputs": [],
   "source": []
  }
 ],
 "metadata": {
  "kernelspec": {
   "display_name": "Python 3",
   "language": "python",
   "name": "python3"
  },
  "language_info": {
   "codemirror_mode": {
    "name": "ipython",
    "version": 3
   },
   "file_extension": ".py",
   "mimetype": "text/x-python",
   "name": "python",
   "nbconvert_exporter": "python",
   "pygments_lexer": "ipython3",
   "version": "3.7.6"
  }
 },
 "nbformat": 4,
 "nbformat_minor": 2
}
